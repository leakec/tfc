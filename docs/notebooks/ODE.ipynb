{
 "cells": [
  {
   "cell_type": "markdown",
   "metadata": {},
   "source": [
    "# Solving Ordinary Differential Equations (ODEs)\n",
    "If you are not yet familiar with the univarite TFC class, `utfc`, it is recommended you learn more about it via the [univarite TFC notebook](UnivariateTFC.ipynb).\n",
    "\n",
    "Consider the nonlinear ODE,\n",
    "\n",
    "$$y_{xx}+y_x y = e^{-2x}\\sin(x)\\Big(\\cos(x)-\\sin(x)\\Big)-2e^{-x}\\cos(x),$$\n",
    "\n",
    "where a subscript with respect to $x$ denotes a derivative with respect to $x$, subject to the boundary constraints\n",
    "\n",
    "$$ y(0) = 0 \\quad \\text{and} \\quad y(\\pi) = 0$$\n",
    "\n",
    "on the domain $x\\in[0,\\pi]$. The analytical solution to this differential equation is:\n",
    "\n",
    "$$ y(x) = e^{-x} \\sin(x). $$\n",
    "\n",
    "To begin, let's create the univariate TFC class and create the analytical solution so we can compare against it later."
   ]
  },
  {
   "cell_type": "code",
   "execution_count": 1,
   "metadata": {},
   "outputs": [],
   "source": [
    "import jax.numpy as np\n",
    "from tfc import utfc\n",
    "\n",
    "# Create the univariate TFC class\n",
    "N = 100 # Number of points in the domain\n",
    "m = 30 # Degree of basis function expansion\n",
    "nC = 2 # Indicates which basis functions need to be removed from the expansion\n",
    "\n",
    "myTfc = utfc(N,nC,m,x0=0,xf=np.pi)\n",
    "\n",
    "# Create the analytical solution\n",
    "realSoln = lambda x: np.exp(-x)*np.sin(x)"
   ]
  },
  {
   "cell_type": "markdown",
   "metadata": {},
   "source": [
    "Notice that $nC = 2$ because the first two Chebyshev orthogonal polynomials will be linearly dependent to the support functions used to create the constrained expression. The remaining variables, $N$ and $m$, were chosen based on the author's previous experience solving ODEs using TFC. \n",
    "\n",
    "The next step is to develop the constrained expression,\n",
    "\n",
    "$$ y(x,g(x)) = g(x) - \\frac{\\pi-x}{\\pi}g(0) - \\frac{x}{\\pi} g(\\pi).$$\n",
    "\n",
    "If you are unfamiliar with what a constrained expression is or how to derive one, [this article](https://www.mdpi.com/2227-7390/8/8/1303) is a good starting point. In addition, the [constrained expression solver](CeSolver.ipynb) available with the TFC module can help you derive constrained expressions."
   ]
  },
  {
   "cell_type": "code",
   "execution_count": 2,
   "metadata": {},
   "outputs": [],
   "source": [
    "x = myTfc.x # Collocation points from the TFC class\n",
    "\n",
    "# Get the basis functions from the TFC class\n",
    "H = myTfc.H\n",
    "\n",
    "# Create the constrained expression\n",
    "g = lambda x,xi: np.dot(H(x),xi)\n",
    "y = lambda x,xi: g(x,xi) - (np.pi-x)/np.pi*g(np.zeros_like(x),xi) - x/np.pi*g(np.pi*np.ones_like(x),xi)"
   ]
  },
  {
   "cell_type": "markdown",
   "metadata": {},
   "source": [
    "Finally, form the residual of the differential equation and minimize it using nonlinear least-squares."
   ]
  },
  {
   "cell_type": "code",
   "execution_count": 3,
   "metadata": {},
   "outputs": [],
   "source": [
    "from tfc.utils import egrad, NLLS\n",
    "\n",
    "# Create the residual\n",
    "dy = egrad(y)\n",
    "d2y = egrad(dy)\n",
    "L = lambda xi: d2y(x,xi)+dy(x,xi)*y(x,xi)-np.exp(-2.*x)*np.sin(x)*(np.cos(x)-np.sin(x))+2.*np.exp(-x)*np.cos(x)\n",
    "\n",
    "# Minimize the residual using least-squares\n",
    "xi0 = np.zeros(H(x).shape[1])\n",
    "xi,_,time = NLLS(xi0,L,timer=True)"
   ]
  },
  {
   "cell_type": "markdown",
   "metadata": {},
   "source": [
    "Note that the last line in the above code block calls the JIT. Therefore, it may take a few seconds to run, because code is being compiled. However, once the code is finished compiling it runs very fast. The time returned by the `NLLS` function is the time it takes the compiled code to run, not the time it takes to compile the code itself. For more information on this function (and an associated class form) see the tutorial on [NLLS](NLLS.ipynb). \n",
    "\n",
    "Finally, lets compare the results to the true solution on a test set, and show some statistics about the TFC solution."
   ]
  },
  {
   "cell_type": "code",
   "execution_count": 4,
   "metadata": {},
   "outputs": [
    {
     "name": "stdout",
     "output_type": "stream",
     "text": [
      "Maximum error on test set: 1.1102230246251565e-16\n",
      "Mean error on the test set: 3.185065201984748e-17\n",
      "TFC run time: 0.002320561000000332 seconds\n"
     ]
    },
    {
     "data": {
      "image/png": "[encoded data removed]",
      "text/plain": [
       "<Figure size 432x288 with 1 Axes>"
      ]
     },
     "metadata": {
      "needs_background": "light"
     },
     "output_type": "display_data"
    }
   ],
   "source": [
    "# Calculate the error on the test set\n",
    "testSet = np.linspace(0,np.pi,101)\n",
    "error = np.abs(y(testSet,xi)-realSoln(testSet))\n",
    "\n",
    "# Print out the results\n",
    "print(\"Maximum error on test set: \" +str(np.max(error)))\n",
    "print(\"Mean error on the test set: \"+str(np.mean(error)))\n",
    "print(\"TFC run time: \"+str(time)+\" seconds\")\n",
    "\n",
    "# Plot the results\n",
    "from tfc.utils import MakePlot\n",
    "\n",
    "# This line is added for Python notebooks but is not necessary in a regular Python script.\n",
    "%matplotlib inline \n",
    "\n",
    "p = MakePlot(r'$x$','$y$')\n",
    "p.ax[0].scatter(testSet[::10],realSoln(testSet)[::10],color='r',label='Real solution',zorder=3)\n",
    "p.ax[0].plot(testSet,y(testSet,xi),'b-',label='TFC Solution')\n",
    "p.ax[0].legend()\n",
    "p.show()"
   ]
  },
  {
   "cell_type": "markdown",
   "metadata": {},
   "source": [
    "The TFC estimated solution is within machine level precision of the real solution, and was obtained in just a few milliseconds."
   ]
  }
 ],
 "metadata": {
  "kernelspec": {
   "display_name": "Python 3 (ipykernel)",
   "language": "python",
   "name": "python3"
  },
  "language_info": {
   "codemirror_mode": {
    "name": "ipython",
    "version": 3
   },
   "file_extension": ".py",
   "mimetype": "text/x-python",
   "name": "python",
   "nbconvert_exporter": "python",
   "pygments_lexer": "ipython3",
   "version": "3.10.9"
  }
 },
 "nbformat": 4,
 "nbformat_minor": 4
}
