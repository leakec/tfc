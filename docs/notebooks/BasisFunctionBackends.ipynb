{
 "cells": [
  {
   "cell_type": "markdown",
   "metadata": {},
   "source": [
    "# Basis function backends\n",
    "\n",
    "<style type=\"text/css\">\n",
    "    table.dataframe td, table.dataframe th {\n",
    "    border: 1px solid lightgray;\n",
    "    }\n",
    "</style>\n",
    "\n",
    "The TFC module comes equipped with C++ and Python versions of the basis function backends. For the `utfc` and `mtfc` modules, the basis function backend can be changed using the `backend` keyword. The pros and cons of each backend are summarized in the table below:\n",
    "\n",
    "\n",
    "| Feature | C++ backend | Python backend |\n",
    "| :- | :- | :- |\n",
    "| Number types suppported | Doubles only | Supports any number type that numpy supports: float, complex, etc. |\n",
    "| Derivative order supported | Arbitrary order dervatives for most basis functions, but only up to 8th order derivatives for some. | Arbitary order derivatives for all basis functions. |\n",
    "| Compiling with JIT | Can be compiled with native JAX JIT. Optimization function can optimize on the variables used to compute the basis functions. | Can only be compiled with `pejit`, and basis function must be able to be cached before compiling, i.e., inputs to the basis functions can not be optimized, but must be constant with resect the optimization problem. This is true for differential equations solved via TFC, but is not true for all optimziation problems. See the [pejit tutorial](pejit.ipynb) for more details. |\n",
    "| Compiling on the GPU | Supported via `pejit` only | Supported via `pejit` only |\n",
    "\n",
    "For the vast majority of applications, the `C++` backend is sufficient. Plus, it is easier for a newer user to use the regular JAX `jit` transform than `pejit`, so `C++` is the default backend. However, for more advanced applications, e.g., solving complex differential equations, a more robust version of the basis functions are needed, which is why the Python backend exists."
   ]
  },
  {
   "cell_type": "markdown",
   "metadata": {},
   "source": [
    "## Using the backends\n",
    "Other than the JIT transform, the basis function backends function the same. They have the same API and can be used in the same way. "
   ]
  },
  {
   "cell_type": "code",
   "execution_count": 1,
   "metadata": {},
   "outputs": [
    {
     "name": "stderr",
     "output_type": "stream",
     "text": [
      "WARNING:jax._src.lib.xla_bridge:No GPU/TPU found, falling back to CPU. (Set TF_CPP_MIN_LOG_LEVEL=0 and rerun for more info.)\n"
     ]
    },
    {
     "name": "stdout",
     "output_type": "stream",
     "text": [
      "C++ result:\n",
      "[[ 0.          2.         -8.        ]\n",
      " [ 0.          2.         -6.47213595]\n",
      " [ 0.          2.         -2.47213595]\n",
      " [ 0.          2.          2.47213595]\n",
      " [ 0.          2.          6.47213595]\n",
      " [ 0.          2.          8.        ]]\n",
      "\n",
      "Python result:\n",
      "[[ 0.          2.         -8.        ]\n",
      " [ 0.          2.         -6.47213595]\n",
      " [ 0.          2.         -2.47213595]\n",
      " [ 0.          2.          2.47213595]\n",
      " [ 0.          2.          6.47213595]\n",
      " [ 0.          2.          8.        ]]\n"
     ]
    }
   ],
   "source": [
    "import jax.numpy as np\n",
    "from tfc import utfc\n",
    "from tfc.utils import egrad\n",
    "\n",
    "# Create two versions of the utfc class. One with a C++ backend and the other with a Python backend.\n",
    "cppBackend = utfc(6, 0, 2, x0=0.0, xf=1.0)\n",
    "pythonBackend = utfc(6, 0, 2, x0=0.0, xf=1.0, backend=\"Python\")\n",
    "\n",
    "# Get H and x\n",
    "x = cppBackend.x\n",
    "Hcpp = cppBackend.H\n",
    "Hpython = pythonBackend.H\n",
    "\n",
    "# Take a derivative and print the result\n",
    "dHcpp = egrad(Hcpp)\n",
    "dHpython = egrad(Hpython)\n",
    "\n",
    "print(\"C++ result:\")\n",
    "print(dHcpp(x))\n",
    "print(\"\\nPython result:\")\n",
    "print(dHpython(x))"
   ]
  },
  {
   "cell_type": "markdown",
   "metadata": {},
   "source": [
    "When compiling the backends with JAX's JIT, only the `C++` backend can be compiled natively. If one wants to compile the Python backends, they must be cached as complile time constants using `pejit`. "
   ]
  },
  {
   "cell_type": "code",
   "execution_count": 2,
   "metadata": {},
   "outputs": [
    {
     "name": "stdout",
     "output_type": "stream",
     "text": [
      "C++ backend result:\n",
      "[-6.         -4.47213595 -0.47213595  4.47213595  8.47213595 10.        ]\n",
      "\n",
      "Python backend result:\n",
      "[-6.         -4.47213595 -0.47213595  4.47213595  8.47213595 10.        ]\n"
     ]
    }
   ],
   "source": [
    "from jax import jit\n",
    "from tfc.utils import pejit\n",
    "\n",
    "# Define xi for use in f\n",
    "xi = np.ones(Hcpp(x).shape[1])\n",
    "\n",
    "# Define the functions to be JITed\n",
    "cpp_f = lambda x,xi: np.dot(dHcpp(x),xi)\n",
    "python_f = lambda x,xi: np.dot(dHpython(x),xi)\n",
    "\n",
    "# JIT the functions\n",
    "cpp_f_jit = jit(cpp_f)\n",
    "python_f_jit = pejit(x, xi, constant_arg_nums=[0])(python_f)\n",
    "\n",
    "# Print the results\n",
    "print(\"C++ backend result:\")\n",
    "print(cpp_f_jit(x,xi))\n",
    "print(\"\\nPython backend result:\")\n",
    "print(python_f_jit(xi))"
   ]
  },
  {
   "cell_type": "markdown",
   "metadata": {},
   "source": [
    "Notice, this means that in order to compile a function using a Python backend, there must not be a need to compute the basis function output at run time, i.e., the function the user wants to compile must be setup in such a way that the result of the Python backend basis function is known and can be cached at compile time. This is the case for differential equations, e.g., see the [complex ODE tutorial](Complex_ODE.ipynb) and many other optimization problems, but is not true for all optimziation problems. "
   ]
  }
 ],
 "metadata": {
  "kernelspec": {
   "display_name": "Python 3 (ipykernel)",
   "language": "python",
   "name": "python3"
  },
  "language_info": {
   "codemirror_mode": {
    "name": "ipython",
    "version": 3
   },
   "file_extension": ".py",
   "mimetype": "text/x-python",
   "name": "python",
   "nbconvert_exporter": "python",
   "pygments_lexer": "ipython3",
   "version": "3.10.9"
  }
 },
 "nbformat": 4,
 "nbformat_minor": 4
}
