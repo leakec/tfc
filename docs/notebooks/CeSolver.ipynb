{
 "cells": [
  {
   "cell_type": "markdown",
   "metadata": {},
   "source": [
    "# Creating Constrained Expressions\n",
    "Constrained expressions are the foundation of TFC. Hence, the TFC module provides a symbolic solver to help users create constrained expressions for the constraints they care about. The algorithm used in this solver is shown at 26:13 of [this video](https://www.youtube.com/watch?v=uisOZVBHA2U&t=1573s).\n",
    "\n",
    "The description of this solver uses some jargon from TFC. Brief descriptions are provided here for users unfamiliar with these terms; more detailed descriptions can be found in the TFC [mathematical documentation](https://github.com/leakec/tfc#mathematical-documentation)."
   ]
  },
  {
   "cell_type": "markdown",
   "metadata": {},
   "source": [
    "## Univariate example\n",
    "The best way to understand the constrained expression solver is via examples. Let's begin with a simple univariate example. Suppose one wants to create a constrained expression for the following constraints\n",
    "$$u(0) = 2 \\quad \\text{and} \\quad u_x(2) = 1$$\n",
    "where $u_x$ represents the derivative of $u$ with respect to $x$.\n",
    "\n",
    "TFC describes constraints with two pieces: (1) the constraint operator, denoted by $C_i$, and (2) the rest of the constraint, denoted by $\\kappa_i$. The constraint operator is an operator that evaluates a function in the same way the dependent variable is evaluated in the constraint. For example, in the $u(0) = 2$ constraint, the constraint operator takes in a function and evaluates it at $x=0$; the same way $u$ is evaluated in the constraint. Let this constraint operator be the first one, then, for example, $C_1[g] = g(0)$. The $\\kappa$ portion of this same constraint is simply $0$.\n",
    "\n",
    "In order to define a constrained expression, one must define a set of support functions used in its derivation. These are a set of linearly independent functions that are capable of interpolating the constraints. For more info on support functions, see the [mathematical documentation](https://github.com/leakec/tfc#mathematical-documentation). \n",
    "\n",
    "Now, let's create the constraint solver for these constraints."
   ]
  },
  {
   "cell_type": "code",
   "execution_count": 1,
   "metadata": {},
   "outputs": [],
   "source": [
    "import sympy as sp\n",
    "from tfc.utils import CeSolver\n",
    "\n",
    "# Create symbols and functions used by the constraint solver\n",
    "u = sp.Function(\"u\")\n",
    "x = sp.Symbol(\"x\")\n",
    "g = sp.Function(\"g\")\n",
    "\n",
    "# Constraint operators\n",
    "C = [lambda u: u.subs(x,0), lambda u: sp.diff(u,x).subs(x,2)]\n",
    "\n",
    "# Kappa values\n",
    "kappa = [sp.re(2), sp.re(1)]\n",
    "\n",
    "# Support functions\n",
    "s = [sp.re(1), x]\n",
    "\n",
    "# Constrained expression solver\n",
    "cs = CeSolver(C, kappa, s, g(x))                                             "
   ]
  },
  {
   "cell_type": "markdown",
   "metadata": {},
   "source": [
    "The constrained expression solver is initialized with the constraint operators, $\\kappa$ values, support functions, and free function that will be used in the constrained expression. Once these have been specified, the user needs to merely call the `ce` property of the `CeSolver` to see the solved constrained expression. "
   ]
  },
  {
   "cell_type": "code",
   "execution_count": 2,
   "metadata": {},
   "outputs": [
    {
     "data": {
      "text/latex": [
       "$\\displaystyle x \\left(1 - \\left. \\frac{d}{d x} g{\\left(x \\right)} \\right|_{\\substack{ x=2 }}\\right) - g{\\left(0 \\right)} + g{\\left(x \\right)} + 2$"
      ],
      "text/plain": [
       "x*(1 - Subs(Derivative(g(x), x), x, 2)) - g(0) + g(x) + 2"
      ]
     },
     "execution_count": 2,
     "metadata": {},
     "output_type": "execute_result"
    }
   ],
   "source": [
    "cs.ce"
   ]
  },
  {
   "cell_type": "markdown",
   "metadata": {},
   "source": [
    "The constrained expression solver comes with three printing options: (1) TFC printer, (2) pretty printer, (3) string. One can switch between them by changing the `print_type` property of the constrained expression solver like so:"
   ]
  },
  {
   "cell_type": "code",
   "execution_count": 3,
   "metadata": {},
   "outputs": [],
   "source": [
    "cs.print_type = \"tfc\""
   ]
  },
  {
   "cell_type": "markdown",
   "metadata": {},
   "source": [
    "Unfortunately, the Jupyter Notebook environment does not work well with custom Sympy printers. Therefore, the input/output from a standard Python script is shown here to demonstrate the `tfc` and `str` printers. The output from the pretty printer is shown above. \n",
    "```python\n",
    ">>> cs.print_type = \"tfc\"\n",
    ">>> cs.ce\n",
    "x*(1 - egrad(g,0)(2)) - g(0) + g(x) + 2\n",
    ">>> cs.print_type = \"str\"\n",
    ">>> cs.ce\n",
    "x*(1 - Subs(Derivative(g(x), x), x, 2)) - g(0) + g(x) + 2\n",
    ">>> cs.print_type = \"latex\"\n",
    "x \\left(1 - \\left. \\frac{d}{d x} g{\\left(x \\right)} \\right|_{\\substack{ x=2 }}\\right) - g{\\left(0 \\right)} + g{\\left(x \\right)} + 2\n",
    "```"
   ]
  },
  {
   "cell_type": "markdown",
   "metadata": {},
   "source": [
    "The TFC printer is desgined to output things in a format that is close to what you will need when using them in the rest of the TFC module. However, this output is not perfect and will likely need some minor modifications before it is ready to be used. \n",
    "<div class=\"alert alert-block alert-warning\">\n",
    "<b>WARNING:</b> The TFC printer has some hacks especially when it comes to printing the \"Subs\" expression. Please copy and paste with care.\n",
    "</div>\n",
    "\n",
    "One can also change properties of the constrained expression solver and the output constrained expression will be changed accordingly. For instance, suppose one wants to use $cos(x)$ and $x^2$ as their support functions rather than $1$ and $x$. Then, they can simply do:"
   ]
  },
  {
   "cell_type": "code",
   "execution_count": 4,
   "metadata": {},
   "outputs": [
    {
     "data": {
      "image/png": "[encoded data removed]",
      "text/latex": [
       "$\\displaystyle \\frac{x^{2} \\cdot \\left(1 - \\left. \\frac{d}{d x} g{\\left(x \\right)} \\right|_{\\substack{ x=2 }}\\right)}{4} + \\left(2 - g{\\left(0 \\right)}\\right) \\left(\\frac{x^{2} \\sin{\\left(2 \\right)}}{4} + \\cos{\\left(x \\right)}\\right) + g{\\left(x \\right)}$"
      ],
      "text/plain": [
       "(1/4)*x**2*(1 - egrad(g,0)(2)) + (2 - g(0))*((1/4)*x**2*np.sin(2) + np.cos(x)) + g(x)"
      ]
     },
     "execution_count": 4,
     "metadata": {},
     "output_type": "execute_result"
    }
   ],
   "source": [
    "cs.s = [sp.cos(x), x**2]\n",
    "cs.ce"
   ]
  },
  {
   "cell_type": "markdown",
   "metadata": {},
   "source": [
    "One can always check that the current constrained expression in the constrained expression solver satisifies the cosntraints by calling the `checkCe()` function. This will return `True` if the constrained expression satisifies the cosntraints and `False` if it does not."
   ]
  },
  {
   "cell_type": "code",
   "execution_count": 5,
   "metadata": {},
   "outputs": [
    {
     "data": {
      "text/plain": [
       "True"
      ]
     },
     "execution_count": 5,
     "metadata": {},
     "output_type": "execute_result"
    }
   ],
   "source": [
    "cs.checkCe()"
   ]
  },
  {
   "cell_type": "markdown",
   "metadata": {},
   "source": [
    "One can also set their own constrained expression if they wish and check if it satisfies the constraints. Let's set one incorreclty on purpose to showcase the output of `checkCe` if the constrained expression is incorrect."
   ]
  },
  {
   "cell_type": "code",
   "execution_count": 6,
   "metadata": {},
   "outputs": [
    {
     "name": "stdout",
     "output_type": "stream",
     "text": [
      "Expected result of constraint 1 to be 2, but got 3.\n"
     ]
    },
    {
     "data": {
      "text/plain": [
       "False"
      ]
     },
     "execution_count": 6,
     "metadata": {},
     "output_type": "execute_result"
    }
   ],
   "source": [
    "cs.ce = x*(1 - sp.diff(g(x),x).subs(x,2)) - g(0) + g(x) + 3\n",
    "cs.checkCe()"
   ]
  },
  {
   "cell_type": "markdown",
   "metadata": {},
   "source": [
    "The above warning let's us know that the first constraint yielded `3` rather than `2`. This is because of the purposeful mistake at the end of the constrained expression above. "
   ]
  },
  {
   "cell_type": "markdown",
   "metadata": {},
   "source": [
    "## Multivariate example\n",
    "Now, let's try a more complicated example. Let's use the constraints from the tutorial on [PDEs](PDE.ipynb).\n",
    "$$ u(0,y) = 0, \\quad u(1,y) = \\cos(y), \\quad \\text{and} \\quad u(x,0) = u(x,2\\pi)$$\n",
    "\n",
    "Here, the constrained solver will be used twice. Once for the constraints on $x$ and again for the constraints on $y$."
   ]
  },
  {
   "cell_type": "code",
   "execution_count": 7,
   "metadata": {},
   "outputs": [
    {
     "name": "stdout",
     "output_type": "stream",
     "text": [
      "u1(x,y,g(x,y)) = x*(-g(1, y) + cos(y)) - (1 - x)*g(0, y) + g(x, y)\n",
      "u(x,y,u1(x,y,g(x,y))) = -y*(-u1(x, 0) + u1(x, 2*pi))/(2*pi) + u1(x, y)\n"
     ]
    }
   ],
   "source": [
    "# Create symbol for y\n",
    "y = sp.Symbol(\"y\")\n",
    "u1 = sp.Function(\"u1\")\n",
    "\n",
    "# Constraints on x\n",
    "Cx = [lambda u: u.subs(x,0), lambda u: u.subs(x,1)]\n",
    "Kx = [sp.re(0), sp.cos(y)]\n",
    "sx = [sp.re(1), x]\n",
    "csx = CeSolver(Cx, Kx, sx, g(x,y))\n",
    "cex = csx.ce\n",
    "\n",
    "# Solve for the constrained expresssion that satisifes the y constraints\n",
    "Cy = [lambda u: u.subs(y,0) - u.subs(y,sp.re(2*sp.pi))]\n",
    "Ky = [sp.re(0)]\n",
    "sy = [y]\n",
    "csy = CeSolver(Cy, Ky, sy, u1(x,y))\n",
    "\n",
    "print(\"u1(x,y,g(x,y)) = \"+str(csx.ce))\n",
    "print(\"u(x,y,u1(x,y,g(x,y))) = \"+str(csy.ce))"
   ]
  },
  {
   "cell_type": "markdown",
   "metadata": {},
   "source": [
    "This matches the constrained expression for the constraints given in the [PDE](PDE.ipynb) tutorial. Moreover, printing out the constrained expression using the TFC printer rather than the pretty printer yields:"
   ]
  },
  {
   "cell_type": "code",
   "execution_count": 8,
   "metadata": {
    "tags": [
     "hide-input"
    ]
   },
   "outputs": [
    {
     "name": "stdout",
     "output_type": "stream",
     "text": [
      "u1(x,y,g(x,y)) = x*(-g(1, y) + np.cos(y)) - (1 - x)*g(0, y) + g(x, y)\n",
      "u(x,y,u1(x,y,g(x,y))) = -1/2*y*(-u1(x, 0) + u1(x, 2*pi))/np.pi + u1(x, y)\n"
     ]
    }
   ],
   "source": [
    "# Creating the TfcPrinter manually is a hack. This is not normally needed. It is only needed in the\n",
    "# Jupyter Notebook environment. Typically, one could just call csx.print_type = \"tfc\" and \n",
    "# csy.print_type = \"tfc\" and print out the constrained expressions in the same way shown above.\n",
    "from tfc.utils.CeSolver import TfcPrinter\n",
    "tfc_printer = TfcPrinter()\n",
    "print(\"u1(x,y,g(x,y)) = \" + tfc_printer.doprint(csx.ce))\n",
    "print(\"u(x,y,u1(x,y,g(x,y))) = \" + tfc_printer.doprint(csy.ce))"
   ]
  },
  {
   "cell_type": "markdown",
   "metadata": {},
   "source": [
    "Notice that this is very similar, but not identical, to the constrained expression written in Python in the [PDE](PDE.ipynb) tutorial. The main thing that is missing is the the lack of `np.zeros_like(...)` and `np.ones_like(...)` calls that are needed for this to work with vectors. In addition, the [PDE](PDE.ipynb) tutorial uses `x[0]` and `x[1]` rather than `x` and `y`. "
   ]
  },
  {
   "cell_type": "markdown",
   "metadata": {},
   "source": [
    "## Complicated example\n",
    "Time for a complicated example. Consider the constraints from Example 2.9 in Carl's dissertation\n",
    "$$u(0,y) = \\cos(\\pi y), \\quad \\int_{-1}^2 u(1,y) \\text{d}y = e, \\quad u(x,1)-u(x,2) = -2,\\\\\n",
    "    u(x,0)+v(x,0) = 5, \\quad \\text{and} \\quad v(0,y) = 5-\\cos(\\pi y)$$\n",
    "\n",
    "When solving multivariate constraints with integrals, one must be very careful with the switching functions; see Carl's dissertation in the [mathematical documentation](https://github.com/leakec/tfc#mathematical-documentation) for more details. The `CeSolver` class does not take this into account when solving for the constrained expression. In these cases, the user must set the switching functions manually. In this particular case, setting the support function to the appropriate switching function works, but this is not the case in general."
   ]
  },
  {
   "cell_type": "code",
   "execution_count": 9,
   "metadata": {},
   "outputs": [
    {
     "name": "stdout",
     "output_type": "stream",
     "text": [
      "u1(x,y,gu(x,y)) = x*(E - Integral(gu(1, y), (y, -1, 2)))/3 + (1 - x)*(-gu(0, y) + cos(pi*y)) + gu(x, y)\n",
      "u(x,y,u1(x,y,gu(x,y))) = (1/2 - y)*(-gu(x, 1) + gu(x, 2) - 2) + gu(x, y)\n",
      "v1(x,y,gu(x,y)) = -gv(0, y) + gv(x, y) - cos(pi*y) + 5\n",
      "v(x,y,u1(x,y,gu(x,y))) = -u(x, 0) - v1(x, 0) + v1(x, y) + 5\n"
     ]
    }
   ],
   "source": [
    "# Create symbols\n",
    "u = sp.Function(\"u\")\n",
    "u1 = sp.Function(\"u1\")\n",
    "v = sp.Function(\"v\")\n",
    "v1 = sp.Function(\"v1\")\n",
    "gu = sp.Function(\"gu\")\n",
    "gv = sp.Function(\"gv\")\n",
    "\n",
    "x = sp.Symbol(\"x\")\n",
    "y = sp.Symbol(\"y\")\n",
    "\n",
    "# Constraints on x for u\n",
    "Cux = [lambda u: u.subs(x,0), lambda u: sp.integrate(u.subs(x,1), (y,sp.re(-1), sp.re(2)))]\n",
    "Kux = [sp.cos(sp.pi*y), sp.exp(1)]\n",
    "sux = [sp.re(1), x]\n",
    "\n",
    "cs_ux = CeSolver(Cux, Kux, sux, gu(x,y))\n",
    "cs_ux.print_type = \"pretty\"\n",
    "cs_ux_ce = cs_ux.ce\n",
    "\n",
    "# Constraints on y for u\n",
    "Cuy = [lambda u: u.subs(y,1) - u.subs(y,2)]\n",
    "Kuy = [sp.re(-2)]\n",
    "suy = [(1-2*y)/2]\n",
    "cs_uy = CeSolver(Cuy, Kuy, suy, gu(x,y))\n",
    "cs_uy.phi = sp.Matrix([(1-2*y)/2]) # Manually set phi due to integral constraint\n",
    "cs_uy.print_type = \"pretty\"\n",
    "cs_uy_ce = cs_uy.ce\n",
    "\n",
    "# Constraints on x for v\n",
    "Cvx = [lambda v: v.subs(x,0)]\n",
    "Kvx = [5-sp.cos(sp.pi*y)]\n",
    "svx = [sp.re(1)]\n",
    "\n",
    "cs_vx = CeSolver(Cvx, Kvx, svx, gv(x,y))\n",
    "cs_vx.print_type = \"pretty\"\n",
    "cs_vx_ce = cs_vx.ce\n",
    "\n",
    "# Constraints on y for v\n",
    "Cvy = [lambda v: v.subs(y,0)]\n",
    "Kvy = [5-u(x,0)]\n",
    "svy = [sp.re(1)]\n",
    "\n",
    "cs_vy = CeSolver(Cvy, Kvy, svy, v1(x,y))\n",
    "cs_vy.print_type = \"pretty\"\n",
    "cs_vy_ce = cs_vy.ce\n",
    "\n",
    "# Show the result\n",
    "print(\"u1(x,y,gu(x,y)) = \" + str(cs_ux_ce))\n",
    "print(\"u(x,y,u1(x,y,gu(x,y))) = \" + str(cs_uy_ce))\n",
    "\n",
    "print(\"v1(x,y,gu(x,y)) = \" + str(cs_vx_ce))\n",
    "print(\"v(x,y,u1(x,y,gu(x,y))) = \" + str(cs_vy_ce))\n"
   ]
  },
  {
   "cell_type": "markdown",
   "metadata": {},
   "source": [
    "These constrained expressions match the ones shown in Exmaple 2.9! However, in is always a good idea to check the full constrained expressions, i.e., make the subsitution so it is no longer written in recusrive form and call `checkCe()`."
   ]
  },
  {
   "cell_type": "code",
   "execution_count": 10,
   "metadata": {},
   "outputs": [
    {
     "data": {
      "text/plain": [
       "True"
      ]
     },
     "execution_count": 10,
     "metadata": {},
     "output_type": "execute_result"
    }
   ],
   "source": [
    "# Check the full constrained expressions\n",
    "cs_uy.g = cs_ux_ce\n",
    "cs_u_full = cs_uy.ce\n",
    "\n",
    "cs_vy.kappa = [5-cs_u_full.subs(y,0)]\n",
    "cs_vy.g = cs_vx_ce\n",
    "cs_v_full = cs_vy.ce\n",
    "\n",
    "cs_ux.ce = cs_u_full\n",
    "cs_uy.ce = cs_u_full\n",
    "cs_vx.ce = cs_v_full\n",
    "cs_vy.ce = cs_v_full\n",
    "\n",
    "cs_ux.checkCe()\n",
    "cs_uy.checkCe()\n",
    "cs_vx.checkCe()\n",
    "cs_vy.checkCe()"
   ]
  },
  {
   "cell_type": "markdown",
   "metadata": {},
   "source": [
    "## Commmon gotchas\n",
    "* Using an integer rather than `sp.re(...)`. `sp.re(...)` is necessary in most cases (especially in the $\\kappa$ values). Otherwise, sympy will throw errors.\n",
    "* The TFC printer is not designed to be a direct copy and paste. Rather, it gets one close to the form they will need to use with the rest of the TFC module. \n",
    "* The CeSolver does not consider other CeSolvers when solving multivariate constrained expressions. This is only a potential problem when integral constraints are included in a multivarite constrained expression, as the CeSolver will not take this into consideration when solving for the switching functions. This is a rare case, so it is unlikely to be a problem very often. "
   ]
  }
 ],
 "metadata": {
  "kernelspec": {
   "display_name": "Python 3 (ipykernel)",
   "language": "python",
   "name": "python3"
  },
  "language_info": {
   "codemirror_mode": {
    "name": "ipython",
    "version": 3
   },
   "file_extension": ".py",
   "mimetype": "text/x-python",
   "name": "python",
   "nbconvert_exporter": "python",
   "pygments_lexer": "ipython3",
   "version": "3.10.9"
  }
 },
 "nbformat": 4,
 "nbformat_minor": 4
}
